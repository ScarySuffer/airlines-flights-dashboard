{
 "cells": [
  {
   "cell_type": "code",
   "execution_count": null,
   "id": "00d0ea77-ecff-4da5-a43e-bed234e5990a",
   "metadata": {},
   "outputs": [],
   "source": [
    "# Step 1: Import libraries\n",
    "import pandas as pd\n",
    "\n",
    "# Step 2: Load the dataset using full relative path\n",
    "df = pd.read_csv('data/airlines_flights_data.csv')\n",
    "\n",
    "# Step 3: Display basic information\n",
    "print(\"🔎 Dataset Info:\")\n",
    "print(df.info())\n",
    "\n",
    "# Step 4: Preview first 5 rows\n",
    "print(\"\\n🧾 First 5 rows:\")\n",
    "print(df.head())\n"
   ]
  }
 ],
 "metadata": {
  "kernelspec": {
   "display_name": "Python 3 (ipykernel)",
   "language": "python",
   "name": "python3"
  },
  "language_info": {
   "codemirror_mode": {
    "name": "ipython",
    "version": 3
   },
   "file_extension": ".py",
   "mimetype": "text/x-python",
   "name": "python",
   "nbconvert_exporter": "python",
   "pygments_lexer": "ipython3",
   "version": "3.13.2"
  }
 },
 "nbformat": 4,
 "nbformat_minor": 5
}
